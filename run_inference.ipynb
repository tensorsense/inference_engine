{
 "cells": [
  {
   "cell_type": "code",
   "execution_count": 1,
   "metadata": {},
   "outputs": [],
   "source": [
    "from pathlib import Path"
   ]
  },
  {
   "cell_type": "code",
   "execution_count": 2,
   "metadata": {},
   "outputs": [],
   "source": [
    "video_dir=Path(\"/data/data/MSRVTT_Zero_Shot_QA/videos/all\")\n",
    "gt_file_question=Path(\"/data/data/MSRVTT_Zero_Shot_QA/test_q1000.json\")\n",
    "gt_file_answers=Path(\"/data/data/MSRVTT_Zero_Shot_QA/test_a.json\")"
   ]
  },
  {
   "cell_type": "code",
   "execution_count": 3,
   "metadata": {},
   "outputs": [],
   "source": [
    "import json"
   ]
  },
  {
   "cell_type": "code",
   "execution_count": 4,
   "metadata": {},
   "outputs": [],
   "source": [
    "with gt_file_question.open(\"r\") as f:\n",
    "    # print(json.load(f))\n",
    "    pass\n",
    "\n",
    "with gt_file_answers.open(\"r\") as f:\n",
    "    # print(json.load(f))\n",
    "    pass"
   ]
  },
  {
   "cell_type": "code",
   "execution_count": 5,
   "metadata": {},
   "outputs": [],
   "source": [
    "import pandas as pd"
   ]
  },
  {
   "cell_type": "code",
   "execution_count": 6,
   "metadata": {},
   "outputs": [
    {
     "data": {
      "text/html": [
       "<div>\n",
       "<style scoped>\n",
       "    .dataframe tbody tr th:only-of-type {\n",
       "        vertical-align: middle;\n",
       "    }\n",
       "\n",
       "    .dataframe tbody tr th {\n",
       "        vertical-align: top;\n",
       "    }\n",
       "\n",
       "    .dataframe thead th {\n",
       "        text-align: right;\n",
       "    }\n",
       "</style>\n",
       "<table border=\"1\" class=\"dataframe\">\n",
       "  <thead>\n",
       "    <tr style=\"text-align: right;\">\n",
       "      <th></th>\n",
       "      <th>video_name</th>\n",
       "      <th>question_id</th>\n",
       "      <th>question</th>\n",
       "      <th>answer</th>\n",
       "      <th>type</th>\n",
       "    </tr>\n",
       "  </thead>\n",
       "  <tbody>\n",
       "    <tr>\n",
       "      <th>0</th>\n",
       "      <td>video7121</td>\n",
       "      <td>v_video7121_5</td>\n",
       "      <td>what is middle aged women doing?</td>\n",
       "      <td>talk</td>\n",
       "      <td>3</td>\n",
       "    </tr>\n",
       "    <tr>\n",
       "      <th>1</th>\n",
       "      <td>video8431</td>\n",
       "      <td>v_video8431_6</td>\n",
       "      <td>what is a black colored car leading in in a mo...</td>\n",
       "      <td>race</td>\n",
       "      <td>3</td>\n",
       "    </tr>\n",
       "    <tr>\n",
       "      <th>2</th>\n",
       "      <td>video8183</td>\n",
       "      <td>v_video8183_10</td>\n",
       "      <td>who saludos amigos 1943 the three caballeros 1...</td>\n",
       "      <td>cartoon</td>\n",
       "      <td>3</td>\n",
       "    </tr>\n",
       "    <tr>\n",
       "      <th>3</th>\n",
       "      <td>video8504</td>\n",
       "      <td>v_video8504_15</td>\n",
       "      <td>who sits at a couch?</td>\n",
       "      <td>woman</td>\n",
       "      <td>3</td>\n",
       "    </tr>\n",
       "    <tr>\n",
       "      <th>4</th>\n",
       "      <td>video9285</td>\n",
       "      <td>v_video9285_12</td>\n",
       "      <td>what is a woman singing with horse in a stage?</td>\n",
       "      <td>song</td>\n",
       "      <td>3</td>\n",
       "    </tr>\n",
       "    <tr>\n",
       "      <th>...</th>\n",
       "      <td>...</td>\n",
       "      <td>...</td>\n",
       "      <td>...</td>\n",
       "      <td>...</td>\n",
       "      <td>...</td>\n",
       "    </tr>\n",
       "    <tr>\n",
       "      <th>995</th>\n",
       "      <td>video9497</td>\n",
       "      <td>v_video9497_29</td>\n",
       "      <td>what does a man sing about being possible whil...</td>\n",
       "      <td>anything</td>\n",
       "      <td>3</td>\n",
       "    </tr>\n",
       "    <tr>\n",
       "      <th>996</th>\n",
       "      <td>video7452</td>\n",
       "      <td>v_video7452_3</td>\n",
       "      <td>what is a man giving about his family?</td>\n",
       "      <td>interview</td>\n",
       "      <td>3</td>\n",
       "    </tr>\n",
       "    <tr>\n",
       "      <th>997</th>\n",
       "      <td>video9165</td>\n",
       "      <td>v_video9165_14</td>\n",
       "      <td>who plays electric guitar live on video?</td>\n",
       "      <td>man</td>\n",
       "      <td>3</td>\n",
       "    </tr>\n",
       "    <tr>\n",
       "      <th>998</th>\n",
       "      <td>video9320</td>\n",
       "      <td>v_video9320_21</td>\n",
       "      <td>who is laying next to a baby in a crib?</td>\n",
       "      <td>man</td>\n",
       "      <td>3</td>\n",
       "    </tr>\n",
       "    <tr>\n",
       "      <th>999</th>\n",
       "      <td>video8940</td>\n",
       "      <td>v_video8940_25</td>\n",
       "      <td>what is a clip of an animated character doing?</td>\n",
       "      <td>throw</td>\n",
       "      <td>3</td>\n",
       "    </tr>\n",
       "  </tbody>\n",
       "</table>\n",
       "<p>1000 rows × 5 columns</p>\n",
       "</div>"
      ],
      "text/plain": [
       "    video_name     question_id  \\\n",
       "0    video7121   v_video7121_5   \n",
       "1    video8431   v_video8431_6   \n",
       "2    video8183  v_video8183_10   \n",
       "3    video8504  v_video8504_15   \n",
       "4    video9285  v_video9285_12   \n",
       "..         ...             ...   \n",
       "995  video9497  v_video9497_29   \n",
       "996  video7452   v_video7452_3   \n",
       "997  video9165  v_video9165_14   \n",
       "998  video9320  v_video9320_21   \n",
       "999  video8940  v_video8940_25   \n",
       "\n",
       "                                              question     answer  type  \n",
       "0                     what is middle aged women doing?       talk     3  \n",
       "1    what is a black colored car leading in in a mo...       race     3  \n",
       "2    who saludos amigos 1943 the three caballeros 1...    cartoon     3  \n",
       "3                                 who sits at a couch?      woman     3  \n",
       "4       what is a woman singing with horse in a stage?       song     3  \n",
       "..                                                 ...        ...   ...  \n",
       "995  what does a man sing about being possible whil...   anything     3  \n",
       "996             what is a man giving about his family?  interview     3  \n",
       "997           who plays electric guitar live on video?        man     3  \n",
       "998            who is laying next to a baby in a crib?        man     3  \n",
       "999     what is a clip of an animated character doing?      throw     3  \n",
       "\n",
       "[1000 rows x 5 columns]"
      ]
     },
     "execution_count": 6,
     "metadata": {},
     "output_type": "execute_result"
    }
   ],
   "source": [
    "q_df = pd.read_json(gt_file_question)\n",
    "a_df = pd.read_json(gt_file_answers)\n",
    "\n",
    "df = pd.merge(q_df, a_df, on=\"question_id\")\n",
    "df"
   ]
  },
  {
   "cell_type": "code",
   "execution_count": 7,
   "metadata": {},
   "outputs": [
    {
     "data": {
      "text/plain": [
       "video_name                            video7121\n",
       "question_id                       v_video7121_5\n",
       "question       what is middle aged women doing?\n",
       "answer                                     talk\n",
       "type                                          3\n",
       "Name: 0, dtype: object"
      ]
     },
     "execution_count": 7,
     "metadata": {},
     "output_type": "execute_result"
    }
   ],
   "source": [
    "sample = df.iloc[0]\n",
    "sample"
   ]
  },
  {
   "cell_type": "code",
   "execution_count": 19,
   "metadata": {},
   "outputs": [
    {
     "data": {
      "text/plain": [
       "True"
      ]
     },
     "execution_count": 19,
     "metadata": {},
     "output_type": "execute_result"
    }
   ],
   "source": [
    "Path(video_dir).joinpath(f\"{sample.video_name}.mp4\").exists()"
   ]
  },
  {
   "cell_type": "code",
   "execution_count": 17,
   "metadata": {},
   "outputs": [
    {
     "name": "stdout",
     "output_type": "stream",
     "text": [
      "video7121.mp4\n"
     ]
    }
   ],
   "source": [
    "!ls /data/data/MSRVTT_Zero_Shot_QA/videos/all | grep 7121"
   ]
  },
  {
   "cell_type": "code",
   "execution_count": 43,
   "metadata": {},
   "outputs": [
    {
     "data": {
      "text/plain": [
       "{'inputs': [{'video_path': '/data/data/MSRVTT_Zero_Shot_QA/videos/all/video7121.mp4',\n",
       "   'text_prompt': 'what is middle aged women doing?'},\n",
       "  {'video_path': '/data/data/MSRVTT_Zero_Shot_QA/videos/all/video8431.mp4',\n",
       "   'text_prompt': 'what is a black colored car leading in in a motor racing competition?'},\n",
       "  {'video_path': '/data/data/MSRVTT_Zero_Shot_QA/videos/all/video8183.mp4',\n",
       "   'text_prompt': 'who saludos amigos 1943 the three caballeros 1945?'},\n",
       "  {'video_path': '/data/data/MSRVTT_Zero_Shot_QA/videos/all/video8504.mp4',\n",
       "   'text_prompt': 'who sits at a couch?'},\n",
       "  {'video_path': '/data/data/MSRVTT_Zero_Shot_QA/videos/all/video9285.mp4',\n",
       "   'text_prompt': 'what is a woman singing with horse in a stage?'},\n",
       "  {'video_path': '/data/data/MSRVTT_Zero_Shot_QA/videos/all/video9486.mp4',\n",
       "   'text_prompt': 'what do a overview of a females sim?'},\n",
       "  {'video_path': '/data/data/MSRVTT_Zero_Shot_QA/videos/all/video8964.mp4',\n",
       "   'text_prompt': 'what show?'},\n",
       "  {'video_path': '/data/data/MSRVTT_Zero_Shot_QA/videos/all/video7193.mp4',\n",
       "   'text_prompt': 'what does a man explaining about a laptop and the touch pad of a laptop s?'},\n",
       "  {'video_path': '/data/data/MSRVTT_Zero_Shot_QA/videos/all/video9572.mp4',\n",
       "   'text_prompt': 'what does a woman run before making music?'},\n",
       "  {'video_path': '/data/data/MSRVTT_Zero_Shot_QA/videos/all/video7379.mp4',\n",
       "   'text_prompt': 'what is a woman doing?'}]}"
      ]
     },
     "execution_count": 43,
     "metadata": {},
     "output_type": "execute_result"
    }
   ],
   "source": [
    "import requests\n",
    "\n",
    "# URL of the API endpoint; adjust localhost and port if different\n",
    "url = \"http://localhost:5000/predict\"\n",
    "\n",
    "samples = df.iloc[:10]\n",
    "\n",
    "data = {\"inputs\": []}\n",
    "\n",
    "for _, sample in samples.iterrows():\n",
    "    data[\"inputs\"].append(\n",
    "        {\n",
    "            \"video_path\": Path(video_dir)\n",
    "            .joinpath(f\"{sample.video_name}.mp4\")\n",
    "            .resolve()\n",
    "            .as_posix(),\n",
    "            \"text_prompt\": sample.question,\n",
    "        }\n",
    "    )\n",
    "\n",
    "data"
   ]
  },
  {
   "cell_type": "code",
   "execution_count": 55,
   "metadata": {},
   "outputs": [
    {
     "name": "stdout",
     "output_type": "stream",
     "text": [
      "Failed to get response: 500 <!doctype html>\n",
      "<html lang=en>\n",
      "<title>500 Internal Server Error</title>\n",
      "<h1>Internal Server Error</h1>\n",
      "<p>The server encountered an internal error and was unable to complete your request. Either the server is overloaded or there is an error in the application.</p>\n",
      "\n"
     ]
    }
   ],
   "source": [
    "# Send a POST request to the server\n",
    "response = requests.post(url, json=data)\n",
    "\n",
    "# Check if the request was successful\n",
    "if response.status_code == 200:\n",
    "    result = response.json()\n",
    "    print(\"Predicted text:\", result[\"predicted_texts\"])\n",
    "else:\n",
    "    print(\"Failed to get response:\", response.status_code, response.text)"
   ]
  },
  {
   "cell_type": "code",
   "execution_count": null,
   "metadata": {},
   "outputs": [],
   "source": []
  }
 ],
 "metadata": {
  "kernelspec": {
   "display_name": "inference_engine",
   "language": "python",
   "name": "python3"
  },
  "language_info": {
   "codemirror_mode": {
    "name": "ipython",
    "version": 3
   },
   "file_extension": ".py",
   "mimetype": "text/x-python",
   "name": "python",
   "nbconvert_exporter": "python",
   "pygments_lexer": "ipython3",
   "version": "3.11.0"
  }
 },
 "nbformat": 4,
 "nbformat_minor": 2
}
