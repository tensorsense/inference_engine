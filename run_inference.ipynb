{
 "cells": [
  {
   "cell_type": "code",
   "execution_count": null,
   "metadata": {},
   "outputs": [],
   "source": [
    "from pathlib import Path"
   ]
  },
  {
   "cell_type": "code",
   "execution_count": null,
   "metadata": {},
   "outputs": [],
   "source": [
    "video_dir=Path(\"/data/data/MSRVTT_Zero_Shot_QA/videos/all\")\n",
    "gt_file_question=Path(\"/data/data/MSRVTT_Zero_Shot_QA/test_q1000.json\")\n",
    "gt_file_answers=Path(\"/data/data/MSRVTT_Zero_Shot_QA/test_a.json\")"
   ]
  },
  {
   "cell_type": "code",
   "execution_count": null,
   "metadata": {},
   "outputs": [],
   "source": [
    "import json"
   ]
  },
  {
   "cell_type": "code",
   "execution_count": null,
   "metadata": {},
   "outputs": [],
   "source": [
    "with gt_file_question.open(\"r\") as f:\n",
    "    # print(json.load(f))\n",
    "    pass\n",
    "\n",
    "with gt_file_answers.open(\"r\") as f:\n",
    "    # print(json.load(f))\n",
    "    pass"
   ]
  },
  {
   "cell_type": "code",
   "execution_count": null,
   "metadata": {},
   "outputs": [],
   "source": [
    "import pandas as pd"
   ]
  },
  {
   "cell_type": "code",
   "execution_count": null,
   "metadata": {},
   "outputs": [],
   "source": [
    "q_df = pd.read_json(gt_file_question)\n",
    "a_df = pd.read_json(gt_file_answers)\n",
    "\n",
    "df = pd.merge(q_df, a_df, on=\"question_id\")\n",
    "df"
   ]
  },
  {
   "cell_type": "code",
   "execution_count": null,
   "metadata": {},
   "outputs": [],
   "source": [
    "sample = df.iloc[0]\n",
    "sample"
   ]
  },
  {
   "cell_type": "code",
   "execution_count": null,
   "metadata": {},
   "outputs": [],
   "source": [
    "Path(video_dir).joinpath(f\"{sample.video_name}.mp4\").exists()"
   ]
  },
  {
   "cell_type": "code",
   "execution_count": null,
   "metadata": {},
   "outputs": [],
   "source": [
    "!ls /data/data/MSRVTT_Zero_Shot_QA/videos/all | grep 7121"
   ]
  },
  {
   "cell_type": "code",
   "execution_count": null,
   "metadata": {},
   "outputs": [],
   "source": [
    "import requests\n",
    "\n",
    "# URL of the API endpoint; adjust localhost and port if different\n",
    "url = \"http://localhost:5000/predict\"\n",
    "\n",
    "samples = df.iloc[:3]\n",
    "\n",
    "data = {\"inputs\": []}\n",
    "\n",
    "for _, sample in samples.iterrows():\n",
    "    data[\"inputs\"].append(\n",
    "        {\n",
    "            \"video_path\": Path(video_dir)\n",
    "            .joinpath(f\"{sample.video_name}.mp4\")\n",
    "            .resolve()\n",
    "            .as_posix(),\n",
    "            \"text_prompt\": sample.question,\n",
    "        }\n",
    "    )\n",
    "data[\"temperature\"] = 0.2\n",
    "data[\"max_new_tokens\"] = 1024\n",
    "data"
   ]
  },
  {
   "cell_type": "code",
   "execution_count": null,
   "metadata": {},
   "outputs": [],
   "source": [
    "# Send a POST request to the server\n",
    "response = requests.post(url, json=data)\n",
    "\n",
    "# Check if the request was successful\n",
    "if response.status_code == 200:\n",
    "    result = response.json()\n",
    "    print(\"Predicted text:\", result[\"predicted_texts\"])\n",
    "else:\n",
    "    print(\"Failed to get response:\", response.status_code, response.text)"
   ]
  },
  {
   "cell_type": "code",
   "execution_count": null,
   "metadata": {},
   "outputs": [],
   "source": [
    "import concurrent.futures\n",
    "import requests\n",
    "import threading\n",
    "from tqdm import tqdm\n",
    "\n",
    "# Example batch pool\n",
    "batch_pool = [\n",
    "    data\n",
    "]\n",
    "\n",
    "# Model endpoints\n",
    "model_endpoints = [\"http://localhost:5000/predict\"]\n",
    "\n",
    "# Shared list to store results\n",
    "results = []\n",
    "results_lock = threading.Lock()\n",
    "\n",
    "def worker(endpoint, batch_pool, pbar):\n",
    "    while True:\n",
    "        try:\n",
    "            # Grab a batch from the pool\n",
    "            batch = batch_pool.pop(0)\n",
    "        except IndexError:\n",
    "            # If the pool is empty, exit the loop\n",
    "            break\n",
    "\n",
    "        print(f\"Submitting batch: {batch}\")\n",
    "\n",
    "        if response.status_code == 200:\n",
    "            result = response.json()\n",
    "            print(\"Predicted text:\", result[\"predicted_texts\"])\n",
    "        else:\n",
    "            print(\"Failed to get response:\", response.status_code, response.text)\n",
    "\n",
    "        print(result)\n",
    "\n",
    "        # Append the result to the shared list\n",
    "        with results_lock:\n",
    "            results.append(result)\n",
    "\n",
    "        # Update the progress bar\n",
    "        pbar.update(1)\n",
    "\n",
    "def process_batches(batch_pool, model_endpoints):\n",
    "    total_batches = len(batch_pool)\n",
    "\n",
    "    # Create a thread pool with the same number of workers as model endpoints\n",
    "    with concurrent.futures.ThreadPoolExecutor(max_workers=len(model_endpoints)) as executor:\n",
    "        # Initialize the progress bar\n",
    "        with tqdm(total=total_batches) as pbar:\n",
    "            # Start a worker for each model endpoint\n",
    "            futures = [executor.submit(worker, endpoint, batch_pool, pbar) for endpoint in model_endpoints]\n",
    "\n",
    "            # Wait for all workers to finish\n",
    "            concurrent.futures.wait(futures)\n",
    "\n",
    "    # Print the results\n",
    "    for result in results:\n",
    "        print(result)\n",
    "\n",
    "\n",
    "process_batches(batch_pool, model_endpoints)"
   ]
  },
  {
   "cell_type": "code",
   "execution_count": null,
   "metadata": {},
   "outputs": [],
   "source": []
  }
 ],
 "metadata": {
  "kernelspec": {
   "display_name": "inference_engine",
   "language": "python",
   "name": "python3"
  },
  "language_info": {
   "codemirror_mode": {
    "name": "ipython",
    "version": 3
   },
   "file_extension": ".py",
   "mimetype": "text/x-python",
   "name": "python",
   "nbconvert_exporter": "python",
   "pygments_lexer": "ipython3",
   "version": "3.11.0"
  }
 },
 "nbformat": 4,
 "nbformat_minor": 2
}
