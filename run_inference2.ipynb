{
 "cells": [
  {
   "cell_type": "code",
   "execution_count": null,
   "metadata": {},
   "outputs": [],
   "source": [
    "from pathlib import Path\n",
    "import pandas as pd\n",
    "import concurrent.futures\n",
    "import requests\n",
    "import threading\n",
    "from tqdm import tqdm"
   ]
  },
  {
   "cell_type": "code",
   "execution_count": null,
   "metadata": {},
   "outputs": [],
   "source": [
    "video_dir=Path(\"/data/data/MSRVTT_Zero_Shot_QA/videos/all\")\n",
    "gt_file_question=Path(\"/data/data/MSRVTT_Zero_Shot_QA/test_q1000.json\")\n",
    "gt_file_answers=Path(\"/data/data/MSRVTT_Zero_Shot_QA/test_a.json\")"
   ]
  },
  {
   "cell_type": "code",
   "execution_count": null,
   "metadata": {},
   "outputs": [],
   "source": [
    "# read annotations from disk\n",
    "q_df = pd.read_json(gt_file_question)\n",
    "a_df = pd.read_json(gt_file_answers)\n",
    "\n",
    "df = pd.merge(q_df, a_df, on=\"question_id\")\n",
    "df"
   ]
  },
  {
   "cell_type": "code",
   "execution_count": null,
   "metadata": {},
   "outputs": [],
   "source": [
    "# prepare batches\n",
    "\n",
    "def prepare_batches(df, batch_size, temperature, max_new_tokens):\n",
    "    batches = []\n",
    "    for start in range(0, len(df), batch_size):\n",
    "        end = start + batch_size\n",
    "        chunk = df.iloc[start:end]\n",
    "        \n",
    "        batch = {\"inputs\": []}\n",
    "\n",
    "        for _, sample in chunk.iterrows():\n",
    "            batch[\"inputs\"].append(\n",
    "                {\n",
    "                    \"video_path\": Path(video_dir)\n",
    "                    .joinpath(f\"{sample.video_name}.mp4\")\n",
    "                    .resolve()\n",
    "                    .as_posix(),\n",
    "                    \"text_prompt\": sample.question,\n",
    "                }\n",
    "            )\n",
    "        batch[\"temperature\"] = temperature\n",
    "        batch[\"max_new_tokens\"] = max_new_tokens\n",
    "        batches.append(batch)\n",
    "    return batches"
   ]
  },
  {
   "cell_type": "code",
   "execution_count": null,
   "metadata": {},
   "outputs": [],
   "source": [
    "# run inference\n",
    "\n",
    "batch_pool = prepare_batches(df, batch_size=24, temperature=0.1, max_new_tokens=1024)\n",
    "print(len(batch_pool))\n",
    "\n",
    "model_endpoints = [\"http://localhost:5000/predict\"]\n",
    "\n",
    "# shared list to store results\n",
    "results = []\n",
    "results_lock = threading.Lock()\n",
    "\n",
    "\n",
    "def worker(endpoint, batch_pool, pbar):\n",
    "    while True:\n",
    "        try:\n",
    "            # Grab a batch from the pool\n",
    "            batch = batch_pool.pop(0)\n",
    "        except IndexError:\n",
    "            # If the pool is empty, exit the loop\n",
    "            break\n",
    "\n",
    "        response = requests.post(endpoint, json=batch)\n",
    "\n",
    "        if response.status_code == 200:\n",
    "            result = response.json()\n",
    "        else:\n",
    "            print(\"Failed to get response:\", response.status_code, response.text)\n",
    "            batch_pool.append(batch)\n",
    "            continue\n",
    "\n",
    "        # Append the result to the shared list\n",
    "        with results_lock:\n",
    "            results.append(result)\n",
    "\n",
    "        # Update the progress bar\n",
    "        pbar.update(1)\n",
    "\n",
    "\n",
    "def process_batches(batch_pool, model_endpoints):\n",
    "    total_batches = len(batch_pool)\n",
    "\n",
    "    # Create a thread pool with the same number of workers as model endpoints\n",
    "    with concurrent.futures.ThreadPoolExecutor(\n",
    "        max_workers=len(model_endpoints)\n",
    "    ) as executor:\n",
    "        # Initialize the progress bar\n",
    "        with tqdm(total=total_batches) as pbar:\n",
    "            # Start a worker for each model endpoint\n",
    "            futures = [\n",
    "                executor.submit(worker, endpoint, batch_pool, pbar)\n",
    "                for endpoint in model_endpoints\n",
    "            ]\n",
    "\n",
    "            # Wait for all workers to finish\n",
    "            concurrent.futures.wait(futures)"
   ]
  },
  {
   "cell_type": "code",
   "execution_count": null,
   "metadata": {},
   "outputs": [],
   "source": [
    "process_batches(batch_pool, model_endpoints)"
   ]
  },
  {
   "cell_type": "code",
   "execution_count": null,
   "metadata": {},
   "outputs": [],
   "source": [
    "for result in results:\n",
    "    print(result)"
   ]
  },
  {
   "cell_type": "code",
   "execution_count": null,
   "metadata": {},
   "outputs": [],
   "source": []
  }
 ],
 "metadata": {
  "kernelspec": {
   "display_name": "inference_engine",
   "language": "python",
   "name": "python3"
  },
  "language_info": {
   "codemirror_mode": {
    "name": "ipython",
    "version": 3
   },
   "file_extension": ".py",
   "mimetype": "text/x-python",
   "name": "python",
   "nbconvert_exporter": "python",
   "pygments_lexer": "ipython3",
   "version": "3.11.0"
  }
 },
 "nbformat": 4,
 "nbformat_minor": 2
}
